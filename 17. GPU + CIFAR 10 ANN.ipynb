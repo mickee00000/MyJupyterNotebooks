{
 "cells": [
  {
   "cell_type": "code",
   "execution_count": 2,
   "metadata": {
    "collapsed": true,
    "pycharm": {
     "name": "#%%\n"
    }
   },
   "outputs": [],
   "source": [
    "import numpy as np\n",
    "import pandas as pd\n",
    "import matplotlib.pyplot as plt\n",
    "import tensorflow as tf\n",
    "import keras"
   ]
  },
  {
   "cell_type": "code",
   "execution_count": 3,
   "outputs": [
    {
     "data": {
      "text/plain": "[PhysicalDevice(name='/physical_device:CPU:0', device_type='CPU'),\n PhysicalDevice(name='/physical_device:GPU:0', device_type='GPU')]"
     },
     "execution_count": 3,
     "metadata": {},
     "output_type": "execute_result"
    }
   ],
   "source": [
    "tf.config.experimental.list_physical_devices()\n"
   ],
   "metadata": {
    "collapsed": false,
    "pycharm": {
     "name": "#%%\n"
    }
   }
  },
  {
   "cell_type": "code",
   "execution_count": 2,
   "outputs": [],
   "source": [
    "(X_train, y_train) , (X_test , y_test) = tf.keras.datasets.cifar10.load_data()"
   ],
   "metadata": {
    "collapsed": false,
    "pycharm": {
     "name": "#%%\n"
    }
   }
  },
  {
   "cell_type": "code",
   "execution_count": 3,
   "outputs": [
    {
     "data": {
      "text/plain": "(50000, 32, 32, 3)"
     },
     "execution_count": 3,
     "metadata": {},
     "output_type": "execute_result"
    }
   ],
   "source": [
    "X_train.shape"
   ],
   "metadata": {
    "collapsed": false,
    "pycharm": {
     "name": "#%%\n"
    }
   }
  },
  {
   "cell_type": "code",
   "execution_count": 9,
   "outputs": [
    {
     "data": {
      "text/plain": "array([9], dtype=uint8)"
     },
     "execution_count": 9,
     "metadata": {},
     "output_type": "execute_result"
    }
   ],
   "source": [
    "y_train[1]"
   ],
   "metadata": {
    "collapsed": false,
    "pycharm": {
     "name": "#%%\n"
    }
   }
  },
  {
   "cell_type": "code",
   "execution_count": 13,
   "outputs": [
    {
     "data": {
      "text/plain": "<matplotlib.image.AxesImage at 0x275cbe68940>"
     },
     "execution_count": 13,
     "metadata": {},
     "output_type": "execute_result"
    },
    {
     "data": {
      "text/plain": "<Figure size 432x288 with 1 Axes>",
      "image/png": "[encoded data removed]"
     },
     "metadata": {
      "needs_background": "light"
     },
     "output_type": "display_data"
    }
   ],
   "source": [
    "plt.imshow(X_train[6])"
   ],
   "metadata": {
    "collapsed": false,
    "pycharm": {
     "name": "#%%\n"
    }
   }
  },
  {
   "cell_type": "code",
   "execution_count": 6,
   "outputs": [],
   "source": [
    "classes = ['airplane','automobile', 'bird', 'cat', 'deer', 'dog', 'frog', 'horse', 'ship', 'truck']"
   ],
   "metadata": {
    "collapsed": false,
    "pycharm": {
     "name": "#%%\n"
    }
   }
  },
  {
   "cell_type": "code",
   "execution_count": 14,
   "outputs": [
    {
     "data": {
      "text/plain": "'bird'"
     },
     "execution_count": 14,
     "metadata": {},
     "output_type": "execute_result"
    }
   ],
   "source": [
    "classes[y_train[6][0]]"
   ],
   "metadata": {
    "collapsed": false,
    "pycharm": {
     "name": "#%%\n"
    }
   }
  },
  {
   "cell_type": "code",
   "execution_count": 15,
   "outputs": [
    {
     "data": {
      "text/plain": "3072"
     },
     "execution_count": 15,
     "metadata": {},
     "output_type": "execute_result"
    }
   ],
   "source": [
    "32*32*3"
   ],
   "metadata": {
    "collapsed": false,
    "pycharm": {
     "name": "#%%\n"
    }
   }
  },
  {
   "cell_type": "code",
   "execution_count": 16,
   "outputs": [],
   "source": [
    "from sklearn.preprocessing import StandardScaler\n",
    "\n",
    "X_train_flat = np.reshape(X_train, (X_train.shape[0], 3072))"
   ],
   "metadata": {
    "collapsed": false,
    "pycharm": {
     "name": "#%%\n"
    }
   }
  },
  {
   "cell_type": "code",
   "execution_count": 17,
   "outputs": [
    {
     "data": {
      "text/plain": "(50000, 3072)"
     },
     "execution_count": 17,
     "metadata": {},
     "output_type": "execute_result"
    }
   ],
   "source": [
    "X_train_flat.shape"
   ],
   "metadata": {
    "collapsed": false,
    "pycharm": {
     "name": "#%%\n"
    }
   }
  },
  {
   "cell_type": "code",
   "execution_count": 31,
   "outputs": [
    {
     "data": {
      "text/plain": "25"
     },
     "execution_count": 31,
     "metadata": {},
     "output_type": "execute_result"
    }
   ],
   "source": [],
   "metadata": {
    "collapsed": false,
    "pycharm": {
     "name": "#%%\n"
    }
   }
  },
  {
   "cell_type": "code",
   "execution_count": 18,
   "outputs": [],
   "source": [
    "X_train_flat_scaled = StandardScaler().fit_transform(X_train_flat)"
   ],
   "metadata": {
    "collapsed": false,
    "pycharm": {
     "name": "#%%\n"
    }
   }
  },
  {
   "cell_type": "code",
   "execution_count": 1,
   "outputs": [
    {
     "ename": "NameError",
     "evalue": "name 'keras' is not defined",
     "output_type": "error",
     "traceback": [
      "\u001B[1;31m---------------------------------------------------------------------------\u001B[0m",
      "\u001B[1;31mNameError\u001B[0m                                 Traceback (most recent call last)",
      "Input \u001B[1;32mIn [1]\u001B[0m, in \u001B[0;36m<cell line: 1>\u001B[1;34m()\u001B[0m\n\u001B[1;32m----> 1\u001B[0m model_only_flat \u001B[38;5;241m=\u001B[39m \u001B[43mkeras\u001B[49m\u001B[38;5;241m.\u001B[39mSequential([\n\u001B[0;32m      2\u001B[0m     keras\u001B[38;5;241m.\u001B[39mlayers\u001B[38;5;241m.\u001B[39mDense(\u001B[38;5;241m1000\u001B[39m, input_shape\u001B[38;5;241m=\u001B[39m(\u001B[38;5;241m3072\u001B[39m,), activation \u001B[38;5;241m=\u001B[39m \u001B[38;5;124m'\u001B[39m\u001B[38;5;124mrelu\u001B[39m\u001B[38;5;124m'\u001B[39m),\n\u001B[0;32m      3\u001B[0m     keras\u001B[38;5;241m.\u001B[39mlayers\u001B[38;5;241m.\u001B[39mDense(\u001B[38;5;241m10\u001B[39m,  activation\u001B[38;5;241m=\u001B[39m\u001B[38;5;124m'\u001B[39m\u001B[38;5;124msigmoid\u001B[39m\u001B[38;5;124m'\u001B[39m)\n\u001B[0;32m      4\u001B[0m ])\n\u001B[0;32m      6\u001B[0m callback \u001B[38;5;241m=\u001B[39m tf\u001B[38;5;241m.\u001B[39mkeras\u001B[38;5;241m.\u001B[39mcallbacks\u001B[38;5;241m.\u001B[39mTensorBoard(log_dir\u001B[38;5;241m=\u001B[39m\u001B[38;5;124m'\u001B[39m\u001B[38;5;124mlogs/No_Scaling\u001B[39m\u001B[38;5;124m'\u001B[39m, histogram_freq\u001B[38;5;241m=\u001B[39m\u001B[38;5;241m1\u001B[39m)\n\u001B[0;32m      8\u001B[0m model_only_flat\u001B[38;5;241m.\u001B[39mcompile(\n\u001B[0;32m      9\u001B[0m     optimizer \u001B[38;5;241m=\u001B[39m \u001B[38;5;124m'\u001B[39m\u001B[38;5;124madam\u001B[39m\u001B[38;5;124m'\u001B[39m,\n\u001B[0;32m     10\u001B[0m     metrics \u001B[38;5;241m=\u001B[39m [\u001B[38;5;124m'\u001B[39m\u001B[38;5;124maccuracy\u001B[39m\u001B[38;5;124m'\u001B[39m],\n\u001B[0;32m     11\u001B[0m     loss \u001B[38;5;241m=\u001B[39m \u001B[38;5;124m'\u001B[39m\u001B[38;5;124msparse_categorical_crossentropy\u001B[39m\u001B[38;5;124m'\u001B[39m\n\u001B[0;32m     12\u001B[0m )\n",
      "\u001B[1;31mNameError\u001B[0m: name 'keras' is not defined"
     ]
    }
   ],
   "source": [
    "model_only_flat = keras.Sequential([\n",
    "    keras.layers.Dense(1000, input_shape=(3072,), activation = 'relu'),\n",
    "    keras.layers.Dense(10,  activation='sigmoid')\n",
    "])\n",
    "\n",
    "callback = tf.keras.callbacks.TensorBoard(log_dir='logs/No_Scaling', histogram_freq=1)\n",
    "\n",
    "model_only_flat.compile(\n",
    "    optimizer = 'adam',\n",
    "    metrics = ['accuracy'],\n",
    "    loss = 'sparse_categorical_crossentropy'\n",
    ")\n",
    "\n",
    "model_only_flat.fit(X_train_flat , y_train, epochs = 10, callbacks=[callback])"
   ],
   "metadata": {
    "collapsed": false,
    "pycharm": {
     "name": "#%%\n"
    }
   }
  },
  {
   "cell_type": "code",
   "execution_count": null,
   "outputs": [],
   "source": [
    "model_scaled = keras.Sequential([\n",
    "    keras.layers.Dense(1000, input_shape=(3072,), activation = 'relu'),\n",
    "    keras.layers.Dense(10,  activation='sigmoid')\n",
    "])\n",
    "\n",
    "callback = tf.keras.callbacks.TensorBoard(log_dir='logs/', histogram_freq=1)\n",
    "\n",
    "model_scaled.compile(\n",
    "    optimizer = 'adam',\n",
    "    metrics = ['accuracy'],\n",
    "    loss = 'sparse_categorical_crossentropy'\n",
    ")\n",
    "\n",
    "model_scaled.fit(X_train_flat_scaled , y_train, epochs = 10, callbacks=[callback])"
   ],
   "metadata": {
    "collapsed": false,
    "pycharm": {
     "name": "#%%\n"
    }
   }
  },
  {
   "cell_type": "code",
   "execution_count": 21,
   "outputs": [
    {
     "name": "stdout",
     "output_type": "stream",
     "text": [
      "Epoch 1/10\n",
      "1563/1563 [==============================] - 36s 22ms/step - loss: 2.3651 - accuracy: 0.3827\n",
      "Epoch 2/10\n",
      "1563/1563 [==============================] - 35s 22ms/step - loss: 1.7075 - accuracy: 0.4322\n",
      "Epoch 3/10\n",
      "1563/1563 [==============================] - 35s 22ms/step - loss: 1.6929 - accuracy: 0.4482\n",
      "Epoch 4/10\n",
      "1563/1563 [==============================] - 33s 21ms/step - loss: 1.6461 - accuracy: 0.4723\n",
      "Epoch 5/10\n",
      "1563/1563 [==============================] - 35s 23ms/step - loss: 1.5950 - accuracy: 0.4942\n",
      "Epoch 6/10\n",
      "1563/1563 [==============================] - 34s 22ms/step - loss: 1.5507 - accuracy: 0.5108\n",
      "Epoch 7/10\n",
      "1563/1563 [==============================] - 35s 22ms/step - loss: 1.5048 - accuracy: 0.5274\n",
      "Epoch 8/10\n",
      "1563/1563 [==============================] - 35s 23ms/step - loss: 1.4607 - accuracy: 0.5422\n",
      "Epoch 9/10\n",
      "1563/1563 [==============================] - 31s 20ms/step - loss: 1.4166 - accuracy: 0.5601\n",
      "Epoch 10/10\n",
      "1563/1563 [==============================] - 32s 20ms/step - loss: 1.3796 - accuracy: 0.5741\n"
     ]
    },
    {
     "data": {
      "text/plain": "<keras.callbacks.History at 0x2766ab820d0>"
     },
     "execution_count": 21,
     "metadata": {},
     "output_type": "execute_result"
    }
   ],
   "source": [
    "model = keras.Sequential([\n",
    "    keras.layers.Dense(1000, input_shape=(3072,), activation = 'relu'),\n",
    "    keras.layers.Dense(10,  activation='sigmoid')\n",
    "])\n",
    "model.compile(\n",
    "    optimizer = 'adam',\n",
    "    metrics = ['accuracy'],\n",
    "    loss = 'sparse_categorical_crossentropy'\n",
    ")\n",
    "\n",
    "model.fit(X_train_flat_scaled , y_train, epochs = 10)"
   ],
   "metadata": {
    "collapsed": false,
    "pycharm": {
     "name": "#%%\n"
    }
   }
  },
  {
   "cell_type": "code",
   "execution_count": 22,
   "outputs": [
    {
     "name": "stdout",
     "output_type": "stream",
     "text": [
      "Epoch 1/10\n",
      "1563/1563 [==============================] - 113s 72ms/step - loss: 1.7847 - accuracy: 0.3781\n",
      "Epoch 2/10\n",
      "1563/1563 [==============================] - 113s 72ms/step - loss: 1.5967 - accuracy: 0.4384\n",
      "Epoch 3/10\n",
      "1563/1563 [==============================] - 117s 75ms/step - loss: 1.5302 - accuracy: 0.4596\n",
      "Epoch 4/10\n",
      "1563/1563 [==============================] - 116s 74ms/step - loss: 1.4725 - accuracy: 0.4807\n",
      "Epoch 5/10\n",
      "1563/1563 [==============================] - 117s 75ms/step - loss: 1.4145 - accuracy: 0.5055\n",
      "Epoch 6/10\n",
      "1563/1563 [==============================] - 118s 75ms/step - loss: 1.3617 - accuracy: 0.5202\n",
      "Epoch 7/10\n",
      "1563/1563 [==============================] - 118s 76ms/step - loss: 1.3158 - accuracy: 0.5379\n",
      "Epoch 8/10\n",
      "1563/1563 [==============================] - 120s 77ms/step - loss: 1.2706 - accuracy: 0.5567\n",
      "Epoch 9/10\n",
      "1563/1563 [==============================] - 120s 77ms/step - loss: 1.2272 - accuracy: 0.5717\n",
      "Epoch 10/10\n",
      "1563/1563 [==============================] - 120s 77ms/step - loss: 1.1757 - accuracy: 0.5878\n"
     ]
    },
    {
     "data": {
      "text/plain": "<keras.callbacks.History at 0x2766b9eda90>"
     },
     "execution_count": 22,
     "metadata": {},
     "output_type": "execute_result"
    }
   ],
   "source": [
    "model1 = keras.Sequential([\n",
    "    keras.layers.Dense(3000, input_shape=(3072,), activation = 'relu'),\n",
    "    keras.layers.Dense(1000, activation = 'relu'),\n",
    "    keras.layers.Dense(10,  activation='sigmoid')\n",
    "])\n",
    "model1.compile(\n",
    "    optimizer = 'adam',\n",
    "    metrics = ['accuracy'],\n",
    "    loss = 'sparse_categorical_crossentropy'\n",
    ")\n",
    "\n",
    "model1.fit(X_train_flat_scaled , y_train, epochs = 10)"
   ],
   "metadata": {
    "collapsed": false,
    "pycharm": {
     "name": "#%%\n"
    }
   }
  },
  {
   "cell_type": "code",
   "execution_count": 26,
   "outputs": [],
   "source": [
    "y_train_categorical = keras.utils.to_categorical(y_train, 10, 'float32')"
   ],
   "metadata": {
    "collapsed": false,
    "pycharm": {
     "name": "#%%\n"
    }
   }
  },
  {
   "cell_type": "code",
   "execution_count": 29,
   "outputs": [
    {
     "data": {
      "text/plain": "(50000, 10)"
     },
     "execution_count": 29,
     "metadata": {},
     "output_type": "execute_result"
    }
   ],
   "source": [
    "y_train_categorical.shape"
   ],
   "metadata": {
    "collapsed": false,
    "pycharm": {
     "name": "#%%\n"
    }
   }
  },
  {
   "cell_type": "code",
   "execution_count": 30,
   "outputs": [
    {
     "name": "stdout",
     "output_type": "stream",
     "text": [
      "Epoch 1/10\n",
      "1563/1563 [==============================] - 109s 70ms/step - loss: 1.6073 - accuracy: 0.4364\n",
      "Epoch 2/10\n",
      "1563/1563 [==============================] - 105s 67ms/step - loss: 1.3038 - accuracy: 0.5483\n",
      "Epoch 3/10\n",
      "1563/1563 [==============================] - 98s 63ms/step - loss: 1.1449 - accuracy: 0.6063\n",
      "Epoch 4/10\n",
      "1563/1563 [==============================] - 87s 56ms/step - loss: 1.0072 - accuracy: 0.6588\n",
      "Epoch 5/10\n",
      "1563/1563 [==============================] - 75s 48ms/step - loss: 0.8854 - accuracy: 0.7030\n",
      "Epoch 6/10\n",
      "1563/1563 [==============================] - 75s 48ms/step - loss: 0.7662 - accuracy: 0.7458\n",
      "Epoch 7/10\n",
      "1563/1563 [==============================] - 75s 48ms/step - loss: 0.6606 - accuracy: 0.7844\n",
      "Epoch 8/10\n",
      "1563/1563 [==============================] - 78s 50ms/step - loss: 0.5580 - accuracy: 0.8246\n",
      "Epoch 9/10\n",
      "1563/1563 [==============================] - 75s 48ms/step - loss: 0.4639 - accuracy: 0.8590\n",
      "Epoch 10/10\n",
      "1563/1563 [==============================] - 75s 48ms/step - loss: 0.3838 - accuracy: 0.8878\n"
     ]
    },
    {
     "data": {
      "text/plain": "<keras.callbacks.History at 0x27644424130>"
     },
     "execution_count": 30,
     "metadata": {},
     "output_type": "execute_result"
    }
   ],
   "source": [
    "model1 = keras.Sequential([\n",
    "    keras.layers.Dense(3000, input_shape=(3072,), activation = 'relu'),\n",
    "    keras.layers.Dense(1000, activation = 'relu'),\n",
    "    keras.layers.Dense(10,  activation='sigmoid')\n",
    "])\n",
    "\n",
    "model1.compile(\n",
    "    optimizer = 'SGD',\n",
    "    metrics = ['accuracy'],\n",
    "    loss = 'categorical_crossentropy'\n",
    ")\n",
    "\n",
    "model1.fit(X_train_flat_scaled , y_train_categorical, epochs = 10)"
   ],
   "metadata": {
    "collapsed": false,
    "pycharm": {
     "name": "#%%\n"
    }
   }
  },
  {
   "cell_type": "code",
   "execution_count": 32,
   "outputs": [
    {
     "ename": "ValueError",
     "evalue": "in user code:\n\n    File \"C:\\ProgramData\\Anaconda3\\lib\\site-packages\\keras\\engine\\training.py\", line 1557, in test_function  *\n        return step_function(self, iterator)\n    File \"C:\\ProgramData\\Anaconda3\\lib\\site-packages\\keras\\engine\\training.py\", line 1546, in step_function  **\n        outputs = model.distribute_strategy.run(run_step, args=(data,))\n    File \"C:\\ProgramData\\Anaconda3\\lib\\site-packages\\keras\\engine\\training.py\", line 1535, in run_step  **\n        outputs = model.test_step(data)\n    File \"C:\\ProgramData\\Anaconda3\\lib\\site-packages\\keras\\engine\\training.py\", line 1501, in test_step\n        self.compute_loss(x, y, y_pred, sample_weight)\n    File \"C:\\ProgramData\\Anaconda3\\lib\\site-packages\\keras\\engine\\training.py\", line 948, in compute_loss\n        return self.compiled_loss(\n    File \"C:\\ProgramData\\Anaconda3\\lib\\site-packages\\keras\\engine\\compile_utils.py\", line 201, in __call__\n        loss_value = loss_obj(y_t, y_p, sample_weight=sw)\n    File \"C:\\ProgramData\\Anaconda3\\lib\\site-packages\\keras\\losses.py\", line 139, in __call__\n        losses = call_fn(y_true, y_pred)\n    File \"C:\\ProgramData\\Anaconda3\\lib\\site-packages\\keras\\losses.py\", line 243, in call  **\n        return ag_fn(y_true, y_pred, **self._fn_kwargs)\n    File \"C:\\ProgramData\\Anaconda3\\lib\\site-packages\\keras\\losses.py\", line 1787, in categorical_crossentropy\n        return backend.categorical_crossentropy(\n    File \"C:\\ProgramData\\Anaconda3\\lib\\site-packages\\keras\\backend.py\", line 5119, in categorical_crossentropy\n        target.shape.assert_is_compatible_with(output.shape)\n\n    ValueError: Shapes (None, 1) and (None, 10) are incompatible\n",
     "output_type": "error",
     "traceback": [
      "\u001B[1;31m---------------------------------------------------------------------------\u001B[0m",
      "\u001B[1;31mValueError\u001B[0m                                Traceback (most recent call last)",
      "Input \u001B[1;32mIn [32]\u001B[0m, in \u001B[0;36m<cell line: 1>\u001B[1;34m()\u001B[0m\n\u001B[1;32m----> 1\u001B[0m \u001B[43mmodel1\u001B[49m\u001B[38;5;241;43m.\u001B[39;49m\u001B[43mevaluate\u001B[49m\u001B[43m(\u001B[49m\u001B[43mX_train_flat_scaled\u001B[49m\u001B[43m \u001B[49m\u001B[43m,\u001B[49m\u001B[43m \u001B[49m\u001B[43my_train\u001B[49m\u001B[43m)\u001B[49m\n",
      "File \u001B[1;32mC:\\ProgramData\\Anaconda3\\lib\\site-packages\\keras\\utils\\traceback_utils.py:67\u001B[0m, in \u001B[0;36mfilter_traceback.<locals>.error_handler\u001B[1;34m(*args, **kwargs)\u001B[0m\n\u001B[0;32m     65\u001B[0m \u001B[38;5;28;01mexcept\u001B[39;00m \u001B[38;5;167;01mException\u001B[39;00m \u001B[38;5;28;01mas\u001B[39;00m e:  \u001B[38;5;66;03m# pylint: disable=broad-except\u001B[39;00m\n\u001B[0;32m     66\u001B[0m   filtered_tb \u001B[38;5;241m=\u001B[39m _process_traceback_frames(e\u001B[38;5;241m.\u001B[39m__traceback__)\n\u001B[1;32m---> 67\u001B[0m   \u001B[38;5;28;01mraise\u001B[39;00m e\u001B[38;5;241m.\u001B[39mwith_traceback(filtered_tb) \u001B[38;5;28;01mfrom\u001B[39;00m \u001B[38;5;28mNone\u001B[39m\n\u001B[0;32m     68\u001B[0m \u001B[38;5;28;01mfinally\u001B[39;00m:\n\u001B[0;32m     69\u001B[0m   \u001B[38;5;28;01mdel\u001B[39;00m filtered_tb\n",
      "File \u001B[1;32mC:\\Users\\ADMINI~1\\AppData\\Local\\Temp\\__autograph_generated_filem6xv7k6h.py:15\u001B[0m, in \u001B[0;36mouter_factory.<locals>.inner_factory.<locals>.tf__test_function\u001B[1;34m(iterator)\u001B[0m\n\u001B[0;32m     13\u001B[0m \u001B[38;5;28;01mtry\u001B[39;00m:\n\u001B[0;32m     14\u001B[0m     do_return \u001B[38;5;241m=\u001B[39m \u001B[38;5;28;01mTrue\u001B[39;00m\n\u001B[1;32m---> 15\u001B[0m     retval_ \u001B[38;5;241m=\u001B[39m ag__\u001B[38;5;241m.\u001B[39mconverted_call(ag__\u001B[38;5;241m.\u001B[39mld(step_function), (ag__\u001B[38;5;241m.\u001B[39mld(\u001B[38;5;28mself\u001B[39m), ag__\u001B[38;5;241m.\u001B[39mld(iterator)), \u001B[38;5;28;01mNone\u001B[39;00m, fscope)\n\u001B[0;32m     16\u001B[0m \u001B[38;5;28;01mexcept\u001B[39;00m:\n\u001B[0;32m     17\u001B[0m     do_return \u001B[38;5;241m=\u001B[39m \u001B[38;5;28;01mFalse\u001B[39;00m\n",
      "\u001B[1;31mValueError\u001B[0m: in user code:\n\n    File \"C:\\ProgramData\\Anaconda3\\lib\\site-packages\\keras\\engine\\training.py\", line 1557, in test_function  *\n        return step_function(self, iterator)\n    File \"C:\\ProgramData\\Anaconda3\\lib\\site-packages\\keras\\engine\\training.py\", line 1546, in step_function  **\n        outputs = model.distribute_strategy.run(run_step, args=(data,))\n    File \"C:\\ProgramData\\Anaconda3\\lib\\site-packages\\keras\\engine\\training.py\", line 1535, in run_step  **\n        outputs = model.test_step(data)\n    File \"C:\\ProgramData\\Anaconda3\\lib\\site-packages\\keras\\engine\\training.py\", line 1501, in test_step\n        self.compute_loss(x, y, y_pred, sample_weight)\n    File \"C:\\ProgramData\\Anaconda3\\lib\\site-packages\\keras\\engine\\training.py\", line 948, in compute_loss\n        return self.compiled_loss(\n    File \"C:\\ProgramData\\Anaconda3\\lib\\site-packages\\keras\\engine\\compile_utils.py\", line 201, in __call__\n        loss_value = loss_obj(y_t, y_p, sample_weight=sw)\n    File \"C:\\ProgramData\\Anaconda3\\lib\\site-packages\\keras\\losses.py\", line 139, in __call__\n        losses = call_fn(y_true, y_pred)\n    File \"C:\\ProgramData\\Anaconda3\\lib\\site-packages\\keras\\losses.py\", line 243, in call  **\n        return ag_fn(y_true, y_pred, **self._fn_kwargs)\n    File \"C:\\ProgramData\\Anaconda3\\lib\\site-packages\\keras\\losses.py\", line 1787, in categorical_crossentropy\n        return backend.categorical_crossentropy(\n    File \"C:\\ProgramData\\Anaconda3\\lib\\site-packages\\keras\\backend.py\", line 5119, in categorical_crossentropy\n        target.shape.assert_is_compatible_with(output.shape)\n\n    ValueError: Shapes (None, 1) and (None, 10) are incompatible\n"
     ]
    }
   ],
   "source": [
    "model1.evaluate(X_train_flat_scaled , y_train)"
   ],
   "metadata": {
    "collapsed": false,
    "pycharm": {
     "name": "#%%\n"
    }
   }
  },
  {
   "cell_type": "code",
   "execution_count": 33,
   "outputs": [
    {
     "name": "stdout",
     "output_type": "stream",
     "text": [
      "1563/1563 [==============================] - 25s 16ms/step - loss: 0.3076 - accuracy: 0.9194\n"
     ]
    },
    {
     "data": {
      "text/plain": "[0.30759742856025696, 0.9193599820137024]"
     },
     "execution_count": 33,
     "metadata": {},
     "output_type": "execute_result"
    }
   ],
   "source": [
    "model1.evaluate(X_train_flat_scaled , y_train_categorical)"
   ],
   "metadata": {
    "collapsed": false,
    "pycharm": {
     "name": "#%%\n"
    }
   }
  }
 ],
 "metadata": {
  "kernelspec": {
   "display_name": "Python 3",
   "language": "python",
   "name": "python3"
  },
  "language_info": {
   "codemirror_mode": {
    "name": "ipython",
    "version": 2
   },
   "file_extension": ".py",
   "mimetype": "text/x-python",
   "name": "python",
   "nbconvert_exporter": "python",
   "pygments_lexer": "ipython2",
   "version": "2.7.6"
  }
 },
 "nbformat": 4,
 "nbformat_minor": 0
}
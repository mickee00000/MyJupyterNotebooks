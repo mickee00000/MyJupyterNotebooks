{
 "cells": [
  {
   "cell_type": "code",
   "execution_count": 1,
   "metadata": {
    "collapsed": true,
    "pycharm": {
     "name": "#%%\n"
    }
   },
   "outputs": [],
   "source": [
    "import numpy as np\n",
    "import pandas as pd\n",
    "import matplotlib.pyplot as plt\n",
    "import tensorflow as tf\n",
    "from tensorflow import keras\n",
    "import tensorflow\n"
   ]
  },
  {
   "cell_type": "code",
   "execution_count": null,
   "outputs": [],
   "source": [
    "%load_ext tensorboard\n",
    "\n",
    "!rm -rf ./logs/"
   ],
   "metadata": {
    "collapsed": false,
    "pycharm": {
     "name": "#%%\n"
    }
   }
  },
  {
   "cell_type": "markdown",
   "source": [
    "tf.config.experimental.list_physical_devices()"
   ],
   "metadata": {
    "collapsed": false,
    "pycharm": {
     "name": "#%% md\n"
    }
   }
  },
  {
   "cell_type": "code",
   "execution_count": 15,
   "outputs": [],
   "source": [
    "(X_train , y_train), (X_test, y_test) = keras.datasets.cifar10.load_data()"
   ],
   "metadata": {
    "collapsed": false,
    "pycharm": {
     "name": "#%%\n"
    }
   }
  },
  {
   "cell_type": "code",
   "execution_count": 4,
   "outputs": [
    {
     "data": {
      "text/plain": "(50000, 32, 32, 3)"
     },
     "execution_count": 4,
     "metadata": {},
     "output_type": "execute_result"
    }
   ],
   "source": [
    "X_train.shape"
   ],
   "metadata": {
    "collapsed": false,
    "pycharm": {
     "name": "#%%\n"
    }
   }
  },
  {
   "cell_type": "code",
   "execution_count": 5,
   "outputs": [
    {
     "data": {
      "text/plain": "array([[6],\n       [9],\n       [9],\n       ...,\n       [9],\n       [1],\n       [1]], dtype=uint8)"
     },
     "execution_count": 5,
     "metadata": {},
     "output_type": "execute_result"
    }
   ],
   "source": [
    "y_train"
   ],
   "metadata": {
    "collapsed": false,
    "pycharm": {
     "name": "#%%\n"
    }
   }
  },
  {
   "cell_type": "code",
   "execution_count": 6,
   "outputs": [],
   "source": [
    "classes = ['airplane','automobile', 'bird', 'cat', 'deer', 'dog', 'frog', 'horse', 'ship', 'truck']"
   ],
   "metadata": {
    "collapsed": false,
    "pycharm": {
     "name": "#%%\n"
    }
   }
  },
  {
   "cell_type": "code",
   "execution_count": 7,
   "outputs": [
    {
     "data": {
      "text/plain": "(50000, 32, 32, 3)"
     },
     "execution_count": 7,
     "metadata": {},
     "output_type": "execute_result"
    }
   ],
   "source": [
    "X_train.shape"
   ],
   "metadata": {
    "collapsed": false,
    "pycharm": {
     "name": "#%%\n"
    }
   }
  },
  {
   "cell_type": "code",
   "execution_count": 8,
   "outputs": [
    {
     "data": {
      "text/plain": "(10000, 32, 32, 3)"
     },
     "execution_count": 8,
     "metadata": {},
     "output_type": "execute_result"
    }
   ],
   "source": [
    "X_test.shape"
   ],
   "metadata": {
    "collapsed": false,
    "pycharm": {
     "name": "#%%\n"
    }
   }
  },
  {
   "cell_type": "code",
   "execution_count": null,
   "outputs": [],
   "source": [
    "X_train = np.reshape(X_train , (50000 , 32*32*3))\n",
    "X_test = np.reshape(X_test , (10000 , 32*32*3))"
   ],
   "metadata": {
    "collapsed": false,
    "pycharm": {
     "name": "#%%\n"
    }
   }
  },
  {
   "cell_type": "code",
   "execution_count": null,
   "outputs": [],
   "source": [
    "from sklearn.preprocessing import StandardScaler\n",
    "\n",
    "X_train_scaled = StandardScaler().fit_transform(X_train)\n",
    "X_test_scaled = StandardScaler().fit_transform(X_test)"
   ],
   "metadata": {
    "collapsed": false,
    "pycharm": {
     "name": "#%%\n"
    }
   }
  },
  {
   "cell_type": "code",
   "execution_count": 9,
   "outputs": [],
   "source": [
    "X_train = X_train / 255\n",
    "X_test = X_test / 255"
   ],
   "metadata": {
    "collapsed": false,
    "pycharm": {
     "name": "#%%\n"
    }
   }
  },
  {
   "cell_type": "code",
   "execution_count": 10,
   "outputs": [],
   "source": [
    "y_train_categorical = keras.utils.to_categorical(y_train , 10, 'float32')\n",
    "y_test_categorical = keras.utils.to_categorical(y_test , 10, 'float32')"
   ],
   "metadata": {
    "collapsed": false,
    "pycharm": {
     "name": "#%%\n"
    }
   }
  },
  {
   "cell_type": "code",
   "execution_count": 11,
   "outputs": [
    {
     "data": {
      "text/plain": "(50000, 10)"
     },
     "execution_count": 11,
     "metadata": {},
     "output_type": "execute_result"
    }
   ],
   "source": [
    "y_train_categorical.shape"
   ],
   "metadata": {
    "collapsed": false,
    "pycharm": {
     "name": "#%%\n"
    }
   }
  },
  {
   "cell_type": "code",
   "execution_count": null,
   "outputs": [],
   "source": [
    "%%timeit -n1 -r1\n",
    "\n",
    "model_SGD_simple = keras.Sequential([\n",
    "    keras.layers.Dense(10000, input_shape=(32*32*3,), activation='relu'),\n",
    "    keras.layers.Dense(1000, activation='relu'),\n",
    "    keras.layers.Dense(10, activation='sigmoid')\n",
    "\n",
    "])\n",
    "\n",
    "callbacker = tf.keras.callbacks.TensorBoard(log_dir='logs/model_SGD_simple', histogram_freq=1)\n",
    "\n",
    "model_SGD_simple.compile(\n",
    "    optimizer = 'SGD',\n",
    "    metrics = ['accuracy'],\n",
    "    loss = 'sparse_categorical_crossentropy'\n",
    ")\n",
    "\n",
    "model_SGD_simple.fit(X_train_scaled , y_train, epochs = 1, callbacks=[callbacker])"
   ],
   "metadata": {
    "collapsed": false,
    "pycharm": {
     "name": "#%%\n"
    }
   }
  },
  {
   "cell_type": "code",
   "execution_count": null,
   "outputs": [],
   "source": [
    "%%timeit -n1 -r1\n",
    "\n",
    "model_adam_simple = keras.Sequential([\n",
    "    keras.layers.Dense(10000, input_shape=(32*32*3,), activation='relu'),\n",
    "    keras.layers.Dense(1000, activation='relu'),\n",
    "    keras.layers.Dense(10, activation='sigmoid')\n",
    "\n",
    "])\n",
    "\n",
    "callbacker = tf.keras.callbacks.TensorBoard(log_dir='logs/model_adam_simple', histogram_freq=1)\n",
    "\n",
    "model_adam_simple.compile(\n",
    "    optimizer = 'adam',\n",
    "    metrics = ['accuracy'],\n",
    "    loss = 'sparse_categorical_crossentropy'\n",
    ")\n",
    "\n",
    "model_adam_simple.fit(X_train_scaled , y_train, epochs = 20, callbacks=[callbacker])"
   ],
   "metadata": {
    "collapsed": false,
    "pycharm": {
     "name": "#%%\n"
    }
   }
  },
  {
   "cell_type": "code",
   "execution_count": null,
   "outputs": [],
   "source": [
    "%%timeit -n1 -r1\n",
    "\n",
    "model_SGD_categorical = keras.Sequential([\n",
    "    keras.layers.Dense(10000, input_shape=(32*32*3,), activation='relu'),\n",
    "    keras.layers.Dense(1000, activation='relu'),\n",
    "    keras.layers.Dense(10, activation='sigmoid')\n",
    "\n",
    "])\n",
    "\n",
    "callbacker = tf.keras.callbacks.TensorBoard(log_dir='logs/model_SGD_categorical', histogram_freq=1)\n",
    "\n",
    "model_SGD_categorical.compile(\n",
    "    optimizer = 'SGD',\n",
    "    metrics = ['accuracy'],\n",
    "    loss = 'categorical_crossentropy'\n",
    ")\n",
    "\n",
    "model_SGD_categorical.fit(X_train_scaled , y_train_categorical, epochs = 20, callbacks=[callbacker])"
   ],
   "metadata": {
    "collapsed": false,
    "pycharm": {
     "name": "#%%\n"
    }
   }
  },
  {
   "cell_type": "code",
   "execution_count": null,
   "outputs": [],
   "source": [
    "%%timeit -n1 -r1\n",
    "\n",
    "model_adam_categorical = keras.Sequential([\n",
    "    keras.layers.Dense(10000, input_shape=(32*32*3,), activation='relu'),\n",
    "    keras.layers.Dense(1000, activation='relu'),\n",
    "    keras.layers.Dense(10, activation='sigmoid')\n",
    "\n",
    "])\n",
    "\n",
    "callbacker = tf.keras.callbacks.TensorBoard(log_dir='logs/model_adam_categorical', histogram_freq=1)\n",
    "\n",
    "model_adam_categorical.compile(\n",
    "    optimizer = 'adam',\n",
    "    metrics = ['accuracy'],\n",
    "    loss = 'categorical_crossentropy'\n",
    ")\n",
    "\n",
    "model_adam_categorical.fit(X_train_scaled , y_train, epochs = 20, callbacks=[callbacker])"
   ],
   "metadata": {
    "collapsed": false,
    "pycharm": {
     "name": "#%%\n"
    }
   }
  },
  {
   "cell_type": "markdown",
   "source": [
    "%%timeit -n1 -r1\n",
    "with tf.device('/CPU:0'):\n",
    "    cpu_model = get_model()\n",
    "    cpu_model.fit(X_train_scaled, y_train_categorical, epochs=1)"
   ],
   "metadata": {
    "collapsed": false,
    "pycharm": {
     "name": "#%% md\n"
    }
   }
  },
  {
   "cell_type": "code",
   "execution_count": 12,
   "outputs": [],
   "source": [
    "%%timeit -n1 -r1\n",
    "\n",
    "cnn = keras.Sequential([\n",
    "    keras.layers.Conv2D(filters = 32, kernel_size = (3,3), activation = 'relu', input_shape=(32,32,3,)),\n",
    "    keras.layers.MaxPooling2D((2,2)),\n",
    "    keras.layers.Flatten(),\n",
    "\n",
    "    keras.layers.Dense(64, activation = 'relu'),\n",
    "    keras.layers.Dense(10, activation = 'sigmoid')\n",
    "])"
   ],
   "metadata": {
    "collapsed": false,
    "pycharm": {
     "name": "#%%\n"
    }
   }
  },
  {
   "cell_type": "code",
   "execution_count": 13,
   "outputs": [],
   "source": [
    "cnn.compile(\n",
    "    optimizer = 'adam',\n",
    "    metrics = ['accuracy'],\n",
    "    loss = 'categorical_crossentropy'\n",
    ")"
   ],
   "metadata": {
    "collapsed": false,
    "pycharm": {
     "name": "#%%\n"
    }
   }
  },
  {
   "cell_type": "code",
   "execution_count": null,
   "outputs": [],
   "source": [
    "callbacker = tf.keras.callbacks.TensorBoard(log_dir='logs/with_CNN_model_adam_categorical', histogram_freq=1)"
   ],
   "metadata": {
    "collapsed": false,
    "pycharm": {
     "name": "#%%\n"
    }
   }
  },
  {
   "cell_type": "code",
   "execution_count": 14,
   "outputs": [
    {
     "name": "stdout",
     "output_type": "stream",
     "text": [
      "Epoch 1/30\n",
      "1563/1563 [==============================] - 27s 12ms/step - loss: 1.4420 - accuracy: 0.4854\n",
      "Epoch 2/30\n",
      "1563/1563 [==============================] - 26s 17ms/step - loss: 1.1633 - accuracy: 0.5916\n",
      "Epoch 3/30\n",
      "1563/1563 [==============================] - 23s 15ms/step - loss: 1.0459 - accuracy: 0.6318\n",
      "Epoch 4/30\n",
      "1563/1563 [==============================] - 22s 14ms/step - loss: 0.9556 - accuracy: 0.6636\n",
      "Epoch 5/30\n",
      "1563/1563 [==============================] - 20s 13ms/step - loss: 0.8872 - accuracy: 0.6892\n",
      "Epoch 6/30\n",
      "1563/1563 [==============================] - 17s 11ms/step - loss: 0.8202 - accuracy: 0.7112\n",
      "Epoch 7/30\n",
      "1563/1563 [==============================] - 17s 11ms/step - loss: 0.7699 - accuracy: 0.7298\n",
      "Epoch 8/30\n",
      "1563/1563 [==============================] - 17s 11ms/step - loss: 0.7161 - accuracy: 0.7477\n",
      "Epoch 9/30\n",
      "1563/1563 [==============================] - 18s 11ms/step - loss: 0.6666 - accuracy: 0.7646\n",
      "Epoch 10/30\n",
      "1563/1563 [==============================] - 17s 11ms/step - loss: 0.6237 - accuracy: 0.7809\n",
      "Epoch 11/30\n",
      "1563/1563 [==============================] - 24s 16ms/step - loss: 0.5819 - accuracy: 0.7946\n",
      "Epoch 12/30\n",
      "1563/1563 [==============================] - 24s 16ms/step - loss: 0.5359 - accuracy: 0.8095\n",
      "Epoch 13/30\n",
      "1563/1563 [==============================] - 19s 12ms/step - loss: 0.4972 - accuracy: 0.8244\n",
      "Epoch 14/30\n",
      "1563/1563 [==============================] - 32s 21ms/step - loss: 0.4600 - accuracy: 0.8382\n",
      "Epoch 15/30\n",
      "1563/1563 [==============================] - 20s 13ms/step - loss: 0.4213 - accuracy: 0.8523\n",
      "Epoch 16/30\n",
      "1563/1563 [==============================] - 17s 11ms/step - loss: 0.3879 - accuracy: 0.8635\n",
      "Epoch 17/30\n",
      "1563/1563 [==============================] - 16s 10ms/step - loss: 0.3575 - accuracy: 0.8734\n",
      "Epoch 18/30\n",
      "1563/1563 [==============================] - 16s 11ms/step - loss: 0.3322 - accuracy: 0.8824\n",
      "Epoch 19/30\n",
      "1563/1563 [==============================] - 16s 10ms/step - loss: 0.3013 - accuracy: 0.8955\n",
      "Epoch 20/30\n",
      "1563/1563 [==============================] - 15s 10ms/step - loss: 0.2780 - accuracy: 0.9029\n",
      "Epoch 21/30\n",
      "1563/1563 [==============================] - 15s 10ms/step - loss: 0.2544 - accuracy: 0.9117\n",
      "Epoch 22/30\n",
      "1563/1563 [==============================] - 17s 11ms/step - loss: 0.2355 - accuracy: 0.9182\n",
      "Epoch 23/30\n",
      "1563/1563 [==============================] - 15s 10ms/step - loss: 0.2106 - accuracy: 0.9281\n",
      "Epoch 24/30\n",
      "1563/1563 [==============================] - 15s 10ms/step - loss: 0.2013 - accuracy: 0.9307\n",
      "Epoch 25/30\n",
      "1563/1563 [==============================] - 15s 10ms/step - loss: 0.1849 - accuracy: 0.9367\n",
      "Epoch 26/30\n",
      "1563/1563 [==============================] - 16s 10ms/step - loss: 0.1674 - accuracy: 0.9431\n",
      "Epoch 27/30\n",
      "1563/1563 [==============================] - 17s 11ms/step - loss: 0.1567 - accuracy: 0.9462\n",
      "Epoch 28/30\n",
      "1563/1563 [==============================] - 15s 10ms/step - loss: 0.1487 - accuracy: 0.9485\n",
      "Epoch 29/30\n",
      "1563/1563 [==============================] - 16s 10ms/step - loss: 0.1357 - accuracy: 0.9546\n",
      "Epoch 30/30\n",
      "1563/1563 [==============================] - 17s 11ms/step - loss: 0.1328 - accuracy: 0.9540\n"
     ]
    },
    {
     "data": {
      "text/plain": "<keras.callbacks.History at 0x223df2c5610>"
     },
     "execution_count": 14,
     "metadata": {},
     "output_type": "execute_result"
    }
   ],
   "source": [
    "cnn.fit(X_train , y_train_categorical, epochs = 30 ,callbacks=[callbacker])"
   ],
   "metadata": {
    "collapsed": false,
    "pycharm": {
     "name": "#%%\n"
    }
   }
  },
  {
   "cell_type": "code",
   "execution_count": null,
   "outputs": [],
   "source": [
    "%tensorboard --logdir logs/"
   ],
   "metadata": {
    "collapsed": false,
    "pycharm": {
     "name": "#%%\n"
    }
   }
  }
 ],
 "metadata": {
  "kernelspec": {
   "display_name": "Python 3",
   "language": "python",
   "name": "python3"
  },
  "language_info": {
   "codemirror_mode": {
    "name": "ipython",
    "version": 2
   },
   "file_extension": ".py",
   "mimetype": "text/x-python",
   "name": "python",
   "nbconvert_exporter": "python",
   "pygments_lexer": "ipython2",
   "version": "2.7.6"
  }
 },
 "nbformat": 4,
 "nbformat_minor": 0
}